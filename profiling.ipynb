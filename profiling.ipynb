{
 "cells": [
  {
   "cell_type": "code",
   "execution_count": 1,
   "metadata": {},
   "outputs": [],
   "source": [
    "import pandas as pd\n",
    "import numpy as np\n",
    "import pandas_profiling\n",
    "\n",
    "from datetime import datetime, timedelta"
   ]
  },
  {
   "cell_type": "markdown",
   "metadata": {},
   "source": [
    "# Functions"
   ]
  },
  {
   "cell_type": "code",
   "execution_count": 2,
   "metadata": {
    "collapsed": true
   },
   "outputs": [],
   "source": [
    "data_path = './data/'\n",
    "\n",
    "def read_data(fn):\n",
    "    df = pd.read_csv(data_path+fn)\n",
    "    print(df.head())\n",
    "    return df\n",
    "\n",
    "def save_tables(df, fn):\n",
    "    df.to_csv(data_path+fn, index=False)"
   ]
  },
  {
   "cell_type": "markdown",
   "metadata": {},
   "source": [
    "# View data"
   ]
  },
  {
   "cell_type": "code",
   "execution_count": 3,
   "metadata": {},
   "outputs": [
    {
     "name": "stdout",
     "output_type": "stream",
     "text": [
      "agenteSalas_cantidad_salas.csv\tISIS_equipos.csv.xlsx\r\n",
      "agenteSalas_equipos.csv\t\tISIS_historial.csv\r\n",
      "agenteSalas_historial.csv\tISIS_historial.csv.xlsx\r\n",
      "ips_salas.txt\t\t\ttabla_equipo.csv\r\n",
      "ISIS_cantidad_salas.csv\t\ttabla_sala.csv\r\n",
      "ISIS_equipos.csv\t\ttabla_usuario.csv\r\n"
     ]
    }
   ],
   "source": [
    "!ls data/"
   ]
  },
  {
   "cell_type": "code",
   "execution_count": 4,
   "metadata": {},
   "outputs": [
    {
     "name": "stdout",
     "output_type": "stream",
     "text": [
      "      sala  total\n",
      "0  waira 1     47\n",
      "1  waira 2     30\n",
      "2   turing     39\n"
     ]
    }
   ],
   "source": [
    "df_cantidad_salas = read_data('agenteSalas_cantidad_salas.csv')"
   ]
  },
  {
   "cell_type": "code",
   "execution_count": 5,
   "metadata": {},
   "outputs": [
    {
     "name": "stdout",
     "output_type": "stream",
     "text": [
      "   equipo     DireccionIP  usuario\n",
      "0  ISC203  157.253.202.13  no user\n",
      "1  ISC301  157.253.239.11  no user\n",
      "2  ISC302  157.253.239.12  no user\n",
      "3  ISC202  157.253.202.12  no user\n",
      "4  ISC201  157.253.202.11  no user\n"
     ]
    }
   ],
   "source": [
    "df_equipos = read_data('agenteSalas_equipos.csv')"
   ]
  },
  {
   "cell_type": "code",
   "execution_count": 6,
   "metadata": {},
   "outputs": [
    {
     "name": "stdout",
     "output_type": "stream",
     "text": [
      "   usuario  equipo                fecha\n",
      "0  no user  ISC419  2017-04-04 09:07:33\n",
      "1  no user  ISC419  2017-04-18 09:14:05\n",
      "2  no user  ISC419  2017-04-18 11:04:54\n",
      "3  no user  ISC419  2017-05-08 12:03:14\n",
      "4  no user  ISC419  2017-05-09 13:17:00\n"
     ]
    }
   ],
   "source": [
    "df_historial = read_data('agenteSalas_historial.csv')"
   ]
  },
  {
   "cell_type": "markdown",
   "metadata": {},
   "source": [
    "# Dimension: Sala\n",
    "\n",
    "### id (PK) | nombre | num_equipos"
   ]
  },
  {
   "cell_type": "code",
   "execution_count": 7,
   "metadata": {
    "collapsed": true
   },
   "outputs": [],
   "source": [
    "df_cantidad_salas.columns = ['nombre', 'num_equipos']\n",
    "df_cantidad_salas['id'] = df_cantidad_salas.index"
   ]
  },
  {
   "cell_type": "code",
   "execution_count": 8,
   "metadata": {
    "collapsed": true
   },
   "outputs": [],
   "source": [
    "col_loc_sala = df_cantidad_salas.columns.get_loc('nombre')\n",
    "\n",
    "for i in range(len(df_cantidad_salas)):\n",
    "    nombre = df_cantidad_salas.iloc[i, col_loc_sala]\n",
    "    df_cantidad_salas.iloc[i, col_loc_sala] = nombre.replace(' ', '')"
   ]
  },
  {
   "cell_type": "code",
   "execution_count": 9,
   "metadata": {
    "collapsed": true
   },
   "outputs": [],
   "source": [
    "df_cantidad_salas = df_cantidad_salas[['id', 'nombre', 'num_equipos']]"
   ]
  },
  {
   "cell_type": "code",
   "execution_count": 10,
   "metadata": {},
   "outputs": [
    {
     "data": {
      "text/html": [
       "<div>\n",
       "<style>\n",
       "    .dataframe thead tr:only-child th {\n",
       "        text-align: right;\n",
       "    }\n",
       "\n",
       "    .dataframe thead th {\n",
       "        text-align: left;\n",
       "    }\n",
       "\n",
       "    .dataframe tbody tr th {\n",
       "        vertical-align: top;\n",
       "    }\n",
       "</style>\n",
       "<table border=\"1\" class=\"dataframe\">\n",
       "  <thead>\n",
       "    <tr style=\"text-align: right;\">\n",
       "      <th></th>\n",
       "      <th>id</th>\n",
       "      <th>nombre</th>\n",
       "      <th>num_equipos</th>\n",
       "    </tr>\n",
       "  </thead>\n",
       "  <tbody>\n",
       "    <tr>\n",
       "      <th>0</th>\n",
       "      <td>0</td>\n",
       "      <td>waira1</td>\n",
       "      <td>47</td>\n",
       "    </tr>\n",
       "    <tr>\n",
       "      <th>1</th>\n",
       "      <td>1</td>\n",
       "      <td>waira2</td>\n",
       "      <td>30</td>\n",
       "    </tr>\n",
       "    <tr>\n",
       "      <th>2</th>\n",
       "      <td>2</td>\n",
       "      <td>turing</td>\n",
       "      <td>39</td>\n",
       "    </tr>\n",
       "  </tbody>\n",
       "</table>\n",
       "</div>"
      ],
      "text/plain": [
       "   id  nombre  num_equipos\n",
       "0   0  waira1           47\n",
       "1   1  waira2           30\n",
       "2   2  turing           39"
      ]
     },
     "execution_count": 10,
     "metadata": {},
     "output_type": "execute_result"
    }
   ],
   "source": [
    "df_cantidad_salas"
   ]
  },
  {
   "cell_type": "code",
   "execution_count": 11,
   "metadata": {
    "collapsed": true
   },
   "outputs": [],
   "source": [
    "save_tables(df_cantidad_salas,'tabla_sala.csv')"
   ]
  },
  {
   "cell_type": "markdown",
   "metadata": {},
   "source": [
    "# Dimension: Equipo\n",
    "### id (PK) | nombre | ip "
   ]
  },
  {
   "cell_type": "code",
   "execution_count": 12,
   "metadata": {
    "collapsed": true,
    "scrolled": false
   },
   "outputs": [],
   "source": [
    "del df_equipos['usuario']\n",
    "df_equipos.columns = ['nombre', 'ip']\n",
    "df_equipos['id'] = df_equipos.index"
   ]
  },
  {
   "cell_type": "code",
   "execution_count": 13,
   "metadata": {
    "collapsed": true
   },
   "outputs": [],
   "source": [
    "df_equipos = df_equipos[['id', 'nombre', 'ip']]"
   ]
  },
  {
   "cell_type": "code",
   "execution_count": 14,
   "metadata": {},
   "outputs": [
    {
     "data": {
      "text/html": [
       "<div>\n",
       "<style>\n",
       "    .dataframe thead tr:only-child th {\n",
       "        text-align: right;\n",
       "    }\n",
       "\n",
       "    .dataframe thead th {\n",
       "        text-align: left;\n",
       "    }\n",
       "\n",
       "    .dataframe tbody tr th {\n",
       "        vertical-align: top;\n",
       "    }\n",
       "</style>\n",
       "<table border=\"1\" class=\"dataframe\">\n",
       "  <thead>\n",
       "    <tr style=\"text-align: right;\">\n",
       "      <th></th>\n",
       "      <th>id</th>\n",
       "      <th>nombre</th>\n",
       "      <th>ip</th>\n",
       "    </tr>\n",
       "  </thead>\n",
       "  <tbody>\n",
       "    <tr>\n",
       "      <th>0</th>\n",
       "      <td>0</td>\n",
       "      <td>ISC203</td>\n",
       "      <td>157.253.202.13</td>\n",
       "    </tr>\n",
       "    <tr>\n",
       "      <th>1</th>\n",
       "      <td>1</td>\n",
       "      <td>ISC301</td>\n",
       "      <td>157.253.239.11</td>\n",
       "    </tr>\n",
       "    <tr>\n",
       "      <th>2</th>\n",
       "      <td>2</td>\n",
       "      <td>ISC302</td>\n",
       "      <td>157.253.239.12</td>\n",
       "    </tr>\n",
       "    <tr>\n",
       "      <th>3</th>\n",
       "      <td>3</td>\n",
       "      <td>ISC202</td>\n",
       "      <td>157.253.202.12</td>\n",
       "    </tr>\n",
       "    <tr>\n",
       "      <th>4</th>\n",
       "      <td>4</td>\n",
       "      <td>ISC201</td>\n",
       "      <td>157.253.202.11</td>\n",
       "    </tr>\n",
       "  </tbody>\n",
       "</table>\n",
       "</div>"
      ],
      "text/plain": [
       "   id  nombre              ip\n",
       "0   0  ISC203  157.253.202.13\n",
       "1   1  ISC301  157.253.239.11\n",
       "2   2  ISC302  157.253.239.12\n",
       "3   3  ISC202  157.253.202.12\n",
       "4   4  ISC201  157.253.202.11"
      ]
     },
     "execution_count": 14,
     "metadata": {},
     "output_type": "execute_result"
    }
   ],
   "source": [
    "df_equipos.head()"
   ]
  },
  {
   "cell_type": "code",
   "execution_count": 15,
   "metadata": {
    "collapsed": true
   },
   "outputs": [],
   "source": [
    "save_tables(df_equipos,'tabla_equipo.csv')"
   ]
  },
  {
   "cell_type": "markdown",
   "metadata": {},
   "source": [
    "# Dimension: Usuario\n",
    "### id (PK) | login"
   ]
  },
  {
   "cell_type": "code",
   "execution_count": 16,
   "metadata": {
    "collapsed": true
   },
   "outputs": [],
   "source": [
    "usuarios = np.array( df_historial['usuario'].value_counts().keys(), dtype='str' )"
   ]
  },
  {
   "cell_type": "code",
   "execution_count": 17,
   "metadata": {
    "collapsed": true
   },
   "outputs": [],
   "source": [
    "df_usuarios = pd.DataFrame(usuarios, columns=['login'])"
   ]
  },
  {
   "cell_type": "code",
   "execution_count": 18,
   "metadata": {
    "collapsed": true
   },
   "outputs": [],
   "source": [
    "df_usuarios = df_usuarios.drop(df_usuarios.index[0])"
   ]
  },
  {
   "cell_type": "code",
   "execution_count": 19,
   "metadata": {
    "collapsed": true
   },
   "outputs": [],
   "source": [
    "df_usuarios['id'] = df_usuarios.index"
   ]
  },
  {
   "cell_type": "code",
   "execution_count": 20,
   "metadata": {
    "collapsed": true
   },
   "outputs": [],
   "source": [
    "df_usuarios = df_usuarios[['id', 'login']]"
   ]
  },
  {
   "cell_type": "code",
   "execution_count": 21,
   "metadata": {},
   "outputs": [
    {
     "data": {
      "text/html": [
       "<div>\n",
       "<style>\n",
       "    .dataframe thead tr:only-child th {\n",
       "        text-align: right;\n",
       "    }\n",
       "\n",
       "    .dataframe thead th {\n",
       "        text-align: left;\n",
       "    }\n",
       "\n",
       "    .dataframe tbody tr th {\n",
       "        vertical-align: top;\n",
       "    }\n",
       "</style>\n",
       "<table border=\"1\" class=\"dataframe\">\n",
       "  <thead>\n",
       "    <tr style=\"text-align: right;\">\n",
       "      <th></th>\n",
       "      <th>id</th>\n",
       "      <th>login</th>\n",
       "    </tr>\n",
       "  </thead>\n",
       "  <tbody>\n",
       "    <tr>\n",
       "      <th>1</th>\n",
       "      <td>1</td>\n",
       "      <td>sisnd.munoz10</td>\n",
       "    </tr>\n",
       "    <tr>\n",
       "      <th>2</th>\n",
       "      <td>2</td>\n",
       "      <td>isc215administrador</td>\n",
       "    </tr>\n",
       "    <tr>\n",
       "      <th>3</th>\n",
       "      <td>3</td>\n",
       "      <td>sisexamen</td>\n",
       "    </tr>\n",
       "    <tr>\n",
       "      <th>4</th>\n",
       "      <td>4</td>\n",
       "      <td>sisturing</td>\n",
       "    </tr>\n",
       "    <tr>\n",
       "      <th>5</th>\n",
       "      <td>5</td>\n",
       "      <td>isc201administrador</td>\n",
       "    </tr>\n",
       "  </tbody>\n",
       "</table>\n",
       "</div>"
      ],
      "text/plain": [
       "   id                login\n",
       "1   1        sisnd.munoz10\n",
       "2   2  isc215administrador\n",
       "3   3            sisexamen\n",
       "4   4            sisturing\n",
       "5   5  isc201administrador"
      ]
     },
     "execution_count": 21,
     "metadata": {},
     "output_type": "execute_result"
    }
   ],
   "source": [
    "df_usuarios.head()"
   ]
  },
  {
   "cell_type": "code",
   "execution_count": 22,
   "metadata": {
    "collapsed": true
   },
   "outputs": [],
   "source": [
    "save_tables(df_usuarios, 'tabla_usuario.csv')"
   ]
  },
  {
   "cell_type": "markdown",
   "metadata": {},
   "source": [
    "# Dimension: Fecha y Fact Table: Uso Sala\n",
    "### id (PK) | anio | mes | dia | hora | minuto\n",
    "### id (PK) | id_usuario (FK) | id_equipo (FK) | id_fecha_inicio (FK) | id_fecha_fin (FK) | id_sala (FK) | duracion(min) "
   ]
  },
  {
   "cell_type": "code",
   "execution_count": 23,
   "metadata": {
    "collapsed": true
   },
   "outputs": [],
   "source": [
    "df_historial = df_historial.sort_values(by=['equipo', 'fecha'])"
   ]
  },
  {
   "cell_type": "code",
   "execution_count": 24,
   "metadata": {},
   "outputs": [
    {
     "data": {
      "text/html": [
       "<div>\n",
       "<style>\n",
       "    .dataframe thead tr:only-child th {\n",
       "        text-align: right;\n",
       "    }\n",
       "\n",
       "    .dataframe thead th {\n",
       "        text-align: left;\n",
       "    }\n",
       "\n",
       "    .dataframe tbody tr th {\n",
       "        vertical-align: top;\n",
       "    }\n",
       "</style>\n",
       "<table border=\"1\" class=\"dataframe\">\n",
       "  <thead>\n",
       "    <tr style=\"text-align: right;\">\n",
       "      <th></th>\n",
       "      <th>usuario</th>\n",
       "      <th>equipo</th>\n",
       "      <th>fecha</th>\n",
       "    </tr>\n",
       "  </thead>\n",
       "  <tbody>\n",
       "    <tr>\n",
       "      <th>85037</th>\n",
       "      <td>isc201administrador</td>\n",
       "      <td>ISC201</td>\n",
       "      <td>2016-01-12 07:25:55</td>\n",
       "    </tr>\n",
       "    <tr>\n",
       "      <th>85113</th>\n",
       "      <td>no user</td>\n",
       "      <td>ISC201</td>\n",
       "      <td>2016-01-12 08:01:42</td>\n",
       "    </tr>\n",
       "    <tr>\n",
       "      <th>85114</th>\n",
       "      <td>isc201administrador</td>\n",
       "      <td>ISC201</td>\n",
       "      <td>2016-01-12 08:01:56</td>\n",
       "    </tr>\n",
       "    <tr>\n",
       "      <th>85116</th>\n",
       "      <td>no user</td>\n",
       "      <td>ISC201</td>\n",
       "      <td>2016-01-12 08:02:22</td>\n",
       "    </tr>\n",
       "    <tr>\n",
       "      <th>85117</th>\n",
       "      <td>isc201administrador</td>\n",
       "      <td>ISC201</td>\n",
       "      <td>2016-01-12 08:02:26</td>\n",
       "    </tr>\n",
       "  </tbody>\n",
       "</table>\n",
       "</div>"
      ],
      "text/plain": [
       "                   usuario  equipo                fecha\n",
       "85037  isc201administrador  ISC201  2016-01-12 07:25:55\n",
       "85113              no user  ISC201  2016-01-12 08:01:42\n",
       "85114  isc201administrador  ISC201  2016-01-12 08:01:56\n",
       "85116              no user  ISC201  2016-01-12 08:02:22\n",
       "85117  isc201administrador  ISC201  2016-01-12 08:02:26"
      ]
     },
     "execution_count": 24,
     "metadata": {},
     "output_type": "execute_result"
    }
   ],
   "source": [
    "df_historial.head()"
   ]
  },
  {
   "cell_type": "code",
   "execution_count": 25,
   "metadata": {
    "collapsed": true
   },
   "outputs": [],
   "source": [
    "df_fechas = pd.DataFrame(columns=['id', 'anio', 'mes', 'dia', 'hora', 'minuto'])\n",
    "df_fact = pd.DataFrame(columns=['id', 'id_usuario', 'id_equipo', 'id_fecha_inicio', 'id_fecha_fin', \n",
    "                                'id_sala', 'duracion'])"
   ]
  },
  {
   "cell_type": "code",
   "execution_count": 26,
   "metadata": {},
   "outputs": [],
   "source": [
    "id_waira1 = int( df_cantidad_salas['id'][df_cantidad_salas['nombre'] == 'waira1'] )\n",
    "id_waira2 = int( df_cantidad_salas['id'][df_cantidad_salas['nombre'] == 'waira2'] )\n",
    "id_turing = int( df_cantidad_salas['id'][df_cantidad_salas['nombre'] == 'turing'] )\n",
    "\n",
    "def dar_id_sala(equipo):\n",
    "    if \"ISC3\" in equipo: \n",
    "        return id_waira1\n",
    "    elif \"ISC2\" in equipo: \n",
    "        return id_waira2\n",
    "    elif \"ISC4\" in equipo: \n",
    "        return id_turing\n",
    "    \n",
    "def dar_id_equipo(eq):\n",
    "    return int( df_equipos[ df_equipos['nombre'] == eq ]['id'] )\n",
    "\n",
    "def dar_id_usuario(us):\n",
    "    return int( df_usuarios[ df_usuarios['login'] == us ]['id'] )"
   ]
  },
  {
   "cell_type": "code",
   "execution_count": null,
   "metadata": {
    "scrolled": true
   },
   "outputs": [],
   "source": [
    "col_loc_usuario = df_historial.columns.get_loc('usuario')\n",
    "col_loc_equipo = df_historial.columns.get_loc('equipo')\n",
    "col_loc_fecha = df_historial.columns.get_loc('fecha')\n",
    "\n",
    "equipos = df_equipos['nombre']\n",
    "cont_fecha = 0\n",
    "cont_fact = 0\n",
    "\n",
    "for eq in equipos:\n",
    "    indices = np.where( df_historial['equipo'] == eq )[0]\n",
    "    df_subset = df_historial.loc[df_historial['equipo'] == eq]\n",
    "    \n",
    "    if df_subset.iloc[0, col_loc_usuario] == 'no user':\n",
    "        df_subset = df_subset.drop(df_subset.index[0])\n",
    "    \n",
    "    for i in range(len(df_subset)//2):\n",
    "        usuario = df_subset.iloc[2*i, col_loc_usuario]\n",
    "        no_user = df_subset.iloc[2*i+1, col_loc_usuario]\n",
    "\n",
    "        fecha_inicio = df_subset.iloc[2*i, col_loc_fecha]\n",
    "        fecha_fin = df_subset.iloc[2*i+1, col_loc_fecha]\n",
    "        \n",
    "        fecha_inicio_date = datetime.strptime(fecha_inicio, '%Y-%m-%d %H:%M:%S')\n",
    "        fecha_fin_date = datetime.strptime(fecha_fin, '%Y-%m-%d %H:%M:%S')\n",
    "        \n",
    "        dict_fecha_inicio = {'id':cont_fecha, 'anio':fecha_inicio_date.year, 'mes':fecha_inicio_date.month, \n",
    "                             'dia':fecha_inicio_date.day, 'hora':fecha_inicio_date.hour, \n",
    "                             'minuto':fecha_inicio_date.minute}\n",
    "        dict_fecha_fin = {'id': cont_fecha+1, 'anio':fecha_fin_date.year, 'mes':fecha_fin_date.month, \n",
    "                          'dia':fecha_fin_date.day, 'hora':fecha_fin_date.hour, \n",
    "                          'minuto':fecha_fin_date.minute}\n",
    "        \n",
    "        df_fechas = df_fechas.append(dict_fecha_inicio, ignore_index=True)\n",
    "        df_fechas = df_fechas.append(dict_fecha_fin, ignore_index=True)\n",
    "        \n",
    "        duracion = (fecha_fin_date - fecha_inicio_date).seconds / 60 #min\n",
    "        \n",
    "        dict_fact = {'id': cont_fact+1, 'id_usuario':dar_id_usuario(usuario), 'id_equipo':dar_id_equipo(eq), \n",
    "                     'id_fecha_inicio':cont_fecha, 'id_fecha_fin':cont_fecha+1, 'id_sala':dar_id_sala(eq), \n",
    "                     'duracion':duracion}\n",
    "        \n",
    "        df_fact = df_fact.append(dict_fact, ignore_index=True)\n",
    "\n",
    "        cont_fecha += 2\n",
    "        cont_fact += 1"
   ]
  },
  {
   "cell_type": "code",
   "execution_count": null,
   "metadata": {
    "collapsed": true
   },
   "outputs": [],
   "source": [
    "df_fechas.head()"
   ]
  },
  {
   "cell_type": "code",
   "execution_count": null,
   "metadata": {
    "collapsed": true
   },
   "outputs": [],
   "source": [
    "df_fact.head()"
   ]
  },
  {
   "cell_type": "code",
   "execution_count": null,
   "metadata": {
    "collapsed": true
   },
   "outputs": [],
   "source": [
    "save_tables(df_fechas,'tabla_fecha.csv')"
   ]
  },
  {
   "cell_type": "code",
   "execution_count": null,
   "metadata": {
    "collapsed": true
   },
   "outputs": [],
   "source": [
    "save_tables(df_fact,'tabla_fact.csv')"
   ]
  }
 ],
 "metadata": {
  "anaconda-cloud": {},
  "kernelspec": {
   "display_name": "Python 3",
   "language": "python",
   "name": "python3"
  },
  "language_info": {
   "codemirror_mode": {
    "name": "ipython",
    "version": 3
   },
   "file_extension": ".py",
   "mimetype": "text/x-python",
   "name": "python",
   "nbconvert_exporter": "python",
   "pygments_lexer": "ipython3",
   "version": "3.6.1"
  }
 },
 "nbformat": 4,
 "nbformat_minor": 1
}
